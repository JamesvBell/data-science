{
 "cells": [
  {
   "cell_type": "code",
   "execution_count": 36,
   "id": "7b16608a-a794-4701-975b-a139c980ae3b",
   "metadata": {},
   "outputs": [
    {
     "name": "stdout",
     "output_type": "stream",
     "text": [
      "Properly generated dataset:\n",
      "                   count      mean\n",
      "device  group                     \n",
      "desktop control     7440  0.023118\n",
      "        treatment   7405  0.029440\n",
      "mobile  control    17560  0.019419\n",
      "        treatment  17595  0.023586\n",
      "<bound method NDFrame.head of        user_id      group   device  converted\n",
      "0            0  treatment   mobile          0\n",
      "1            1    control  desktop          0\n",
      "2            2  treatment  desktop          0\n",
      "3            3    control   mobile          0\n",
      "4            4  treatment   mobile          0\n",
      "...        ...        ...      ...        ...\n",
      "49995    49995    control   mobile          0\n",
      "49996    49996  treatment   mobile          0\n",
      "49997    49997    control  desktop          0\n",
      "49998    49998  treatment   mobile          0\n",
      "49999    49999    control  desktop          0\n",
      "\n",
      "[50000 rows x 4 columns]>\n"
     ]
    }
   ],
   "source": [
    "# Let's regenerate with device as a core characteristic\n",
    "np.random.seed(42)\n",
    "n_users = 50000\n",
    "\n",
    "# Realistic device distribution \n",
    "device_dist = np.random.choice(['mobile', 'desktop'], n_users, p=[0.70, 0.30])\n",
    "\n",
    "# Device affects conversion rates (mobile converts less)\n",
    "mobile_control_rate = 0.020    # 2.0% mobile baseline\n",
    "mobile_treatment_rate = 0.024  # 2.4% mobile treatment\n",
    "desktop_control_rate = 0.028   # 2.8% desktop baseline  \n",
    "desktop_treatment_rate = 0.031 # 3.1% desktop treatment\n",
    "\n",
    "# Now generate conversions based on BOTH group AND device\n",
    "conversions = []\n",
    "groups = []\n",
    "\n",
    "for i in range(n_users):\n",
    "    group = 'treatment' if i % 2 == 0 else 'control'\n",
    "    device = device_dist[i]\n",
    "    \n",
    "    if group == 'control':\n",
    "        rate = mobile_control_rate if device == 'mobile' else desktop_control_rate\n",
    "    else:\n",
    "        rate = mobile_treatment_rate if device == 'mobile' else desktop_treatment_rate\n",
    "        \n",
    "    converted = np.random.binomial(1, rate)\n",
    "    conversions.append(converted)\n",
    "    groups.append(group)\n",
    "\n",
    "# Create proper dataset\n",
    "data_proper = pd.DataFrame({\n",
    "    'user_id': range(n_users),\n",
    "    'group': groups,\n",
    "    'device': device_dist,\n",
    "    'converted': conversions\n",
    "})\n",
    "\n",
    "print(\"Properly generated dataset:\")\n",
    "print(data_proper.groupby(['device', 'group'])['converted'].agg(['count', 'mean']))\n",
    "print(data_proper.head)"
   ]
  },
  {
   "cell_type": "code",
   "execution_count": 38,
   "id": "152f6306-6f4a-48bb-bed3-67ac23d04539",
   "metadata": {},
   "outputs": [
    {
     "name": "stdout",
     "output_type": "stream",
     "text": [
      "Columns in saved file: ['user_id', 'group', 'device', 'converted']\n",
      "Shape: (50000, 4)\n",
      "\n",
      "First few rows:\n",
      "   user_id      group   device  converted\n",
      "0        0  treatment   mobile          0\n",
      "1        1    control  desktop          0\n",
      "2        2  treatment  desktop          0\n",
      "3        3    control   mobile          0\n",
      "4        4  treatment   mobile          0\n",
      "\n",
      "Verification - Saved dataset shape: (50000, 4)\n",
      "Columns: ['user_id', 'group', 'device', 'converted']\n",
      "<bound method NDFrame.head of        user_id      group   device  converted\n",
      "0            0  treatment   mobile          0\n",
      "1            1    control  desktop          0\n",
      "2            2  treatment  desktop          0\n",
      "3            3    control   mobile          0\n",
      "4            4  treatment   mobile          0\n",
      "...        ...        ...      ...        ...\n",
      "49995    49995    control   mobile          0\n",
      "49996    49996  treatment   mobile          0\n",
      "49997    49997    control  desktop          0\n",
      "49998    49998  treatment   mobile          0\n",
      "49999    49999    control  desktop          0\n",
      "\n",
      "[50000 rows x 4 columns]>\n",
      "device   group    \n",
      "desktop  control       7440\n",
      "         treatment     7405\n",
      "mobile   control      17560\n",
      "         treatment    17595\n",
      "dtype: int64\n"
     ]
    }
   ],
   "source": [
    "data_proper.to_csv('./data/basic_ab_test.csv', index=False)\n",
    "\n",
    "# Let's verify what we saved\n",
    "data_saved = pd.read_csv('./data/basic_ab_test.csv')\n",
    "print(\"Columns in saved file:\", data_saved.columns.tolist())\n",
    "print(\"Shape:\", data_saved.shape)\n",
    "print(\"\\nFirst few rows:\")\n",
    "print(data_saved.head())\n",
    "print(f\"\\nVerification - Saved dataset shape: {data_saved.shape}\")\n",
    "print(f\"Columns: {data_saved.columns.tolist()}\")\n",
    "print(data_saved.head)\n",
    "print(data_saved.groupby(['device', 'group']).size())"
   ]
  },
  {
   "cell_type": "code",
   "execution_count": null,
   "id": "21c1844d-9ac4-4a9b-a70c-25617ac4eca8",
   "metadata": {},
   "outputs": [],
   "source": []
  }
 ],
 "metadata": {
  "kernelspec": {
   "display_name": "Conversion A/B Testing",
   "language": "python",
   "name": "conversion-ab-testing"
  },
  "language_info": {
   "codemirror_mode": {
    "name": "ipython",
    "version": 3
   },
   "file_extension": ".py",
   "mimetype": "text/x-python",
   "name": "python",
   "nbconvert_exporter": "python",
   "pygments_lexer": "ipython3",
   "version": "3.12.7"
  }
 },
 "nbformat": 4,
 "nbformat_minor": 5
}
